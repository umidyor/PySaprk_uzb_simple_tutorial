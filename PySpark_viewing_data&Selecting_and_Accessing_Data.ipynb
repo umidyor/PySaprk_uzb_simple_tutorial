{
  "nbformat": 4,
  "nbformat_minor": 0,
  "metadata": {
    "colab": {
      "provenance": [],
      "toc_visible": true,
      "authorship_tag": "ABX9TyN3jh1a+8paOvS6D4CbJIII",
      "include_colab_link": true
    },
    "kernelspec": {
      "name": "python3",
      "display_name": "Python 3"
    },
    "language_info": {
      "name": "python"
    }
  },
  "cells": [
    {
      "cell_type": "markdown",
      "metadata": {
        "id": "view-in-github",
        "colab_type": "text"
      },
      "source": [
        "<a href=\"https://colab.research.google.com/github/umidyor/PySpark_uzb_simple_tutorial/blob/main/PySpark_viewing_data%26Selecting_and_Accessing_Data.ipynb\" target=\"_parent\"><img src=\"https://colab.research.google.com/assets/colab-badge.svg\" alt=\"Open In Colab\"/></a>"
      ]
    },
    {
      "cell_type": "code",
      "execution_count": 2,
      "metadata": {
        "id": "NJCMe2hdSbBy",
        "colab": {
          "base_uri": "https://localhost:8080/"
        },
        "outputId": "5eacfe86-d500-4b6a-c781-20a4b4af24cc"
      },
      "outputs": [
        {
          "output_type": "stream",
          "name": "stdout",
          "text": [
            "Collecting pyspark\n",
            "  Downloading pyspark-3.4.1.tar.gz (310.8 MB)\n",
            "\u001b[2K     \u001b[90m━━━━━━━━━━━━━━━━━━━━━━━━━━━━━━━━━━━━━━━\u001b[0m \u001b[32m310.8/310.8 MB\u001b[0m \u001b[31m3.3 MB/s\u001b[0m eta \u001b[36m0:00:00\u001b[0m\n",
            "\u001b[?25h  Preparing metadata (setup.py) ... \u001b[?25l\u001b[?25hdone\n",
            "Requirement already satisfied: py4j==0.10.9.7 in /usr/local/lib/python3.10/dist-packages (from pyspark) (0.10.9.7)\n",
            "Building wheels for collected packages: pyspark\n",
            "  Building wheel for pyspark (setup.py) ... \u001b[?25l\u001b[?25hdone\n",
            "  Created wheel for pyspark: filename=pyspark-3.4.1-py2.py3-none-any.whl size=311285398 sha256=0b14297c297edf9e9242dcab64019aa1e3706dbc80a59d0f4040bf0db7e34520\n",
            "  Stored in directory: /root/.cache/pip/wheels/0d/77/a3/ff2f74cc9ab41f8f594dabf0579c2a7c6de920d584206e0834\n",
            "Successfully built pyspark\n",
            "Installing collected packages: pyspark\n",
            "Successfully installed pyspark-3.4.1\n"
          ]
        }
      ],
      "source": [
        "!pip install pyspark  #avvalgidek yana kutubxonani yuklab olamiz"
      ]
    },
    {
      "cell_type": "code",
      "source": [
        "from pyspark.sql import SparkSession   #SparkSession orqali biz sparkda ishlashga imkoniyat yaratamiz>>>SparkSession.builder.getOrCreate()  ushbu metodlar data bilan,yoki sql baza bilan o'zaro aloqa o'rnatishni va ular o'rtasida so'rov olib borishga yordam beradi.\n",
        "import pandas as pd\n",
        "from datetime import datetime,date\n",
        "spark = SparkSession.builder.getOrCreate()\n",
        "pandas_df = pd.DataFrame({\n",
        "    'a': [1, 2, 3],\n",
        "    'b': [2., 3., 4.],\n",
        "    'c': ['string1', 'string2', 'string3'],\n",
        "    'd': [date(2000, 1, 1), date(2000, 2, 1), date(2000, 3, 1)],\n",
        "    'e': [datetime(2000, 1, 1, 12, 0), datetime(2000, 1, 2, 12, 0), datetime(2000, 1, 3, 12, 0)]\n",
        "})\n",
        "df = spark.createDataFrame(pandas_df)\n",
        "df"
      ],
      "metadata": {
        "colab": {
          "base_uri": "https://localhost:8080/",
          "height": 114
        },
        "id": "btXJsX-IuPod",
        "outputId": "7266d3a7-c14f-447a-c5fc-f8e0d28db6da"
      },
      "execution_count": 60,
      "outputs": [
        {
          "output_type": "execute_result",
          "data": {
            "text/plain": [
              "+---+---+-------+----------+-------------------+\n",
              "|  a|  b|      c|         d|                  e|\n",
              "+---+---+-------+----------+-------------------+\n",
              "|  1|2.0|string1|2000-01-01|2000-01-01 12:00:00|\n",
              "|  2|3.0|string2|2000-02-01|2000-01-02 12:00:00|\n",
              "|  3|4.0|string3|2000-03-01|2000-01-03 12:00:00|\n",
              "+---+---+-------+----------+-------------------+"
            ],
            "text/html": [
              "<table border='1'>\n",
              "<tr><th>a</th><th>b</th><th>c</th><th>d</th><th>e</th></tr>\n",
              "<tr><td>1</td><td>2.0</td><td>string1</td><td>2000-01-01</td><td>2000-01-01 12:00:00</td></tr>\n",
              "<tr><td>2</td><td>3.0</td><td>string2</td><td>2000-02-01</td><td>2000-01-02 12:00:00</td></tr>\n",
              "<tr><td>3</td><td>4.0</td><td>string3</td><td>2000-03-01</td><td>2000-01-03 12:00:00</td></tr>\n",
              "</table>\n"
            ]
          },
          "metadata": {},
          "execution_count": 60
        }
      ]
    },
    {
      "cell_type": "code",
      "source": [
        "spark.conf.set('spark.sql.repl.eagerEval.enabled', True)       #Shu bilan bir qatorda, siz spark.sql.repl.eagerEval.enabledJupyter kabi noutbuklarda PySpark DataFrame-ni konfiguratsiyasini yoqishingiz mumkin.\n",
        "df\n",
        "#Shunday chiroyli holatda chiqarish"
      ],
      "metadata": {
        "colab": {
          "base_uri": "https://localhost:8080/",
          "height": 114
        },
        "id": "zaU57sEXuoHZ",
        "outputId": "f83681d5-c0df-4a5c-d9bb-a21bf3560122"
      },
      "execution_count": 61,
      "outputs": [
        {
          "output_type": "execute_result",
          "data": {
            "text/plain": [
              "DataFrame[a: bigint, b: double, c: string, d: date, e: timestamp]"
            ],
            "text/html": [
              "<table border='1'>\n",
              "<tr><th>a</th><th>b</th><th>c</th><th>d</th><th>e</th></tr>\n",
              "<tr><td>1</td><td>2.0</td><td>string1</td><td>2000-01-01</td><td>2000-01-01 12:00:00</td></tr>\n",
              "<tr><td>2</td><td>3.0</td><td>string2</td><td>2000-02-01</td><td>2000-01-02 12:00:00</td></tr>\n",
              "<tr><td>3</td><td>4.0</td><td>string3</td><td>2000-03-01</td><td>2000-01-03 12:00:00</td></tr>\n",
              "</table>\n"
            ]
          },
          "metadata": {},
          "execution_count": 61
        }
      ]
    },
    {
      "cell_type": "code",
      "source": [
        "df.show(1,vertical=True)    #Qatorlarni vertikal tarzda ko'rsatish uchun shunchaki vertical=True parametri"
      ],
      "metadata": {
        "colab": {
          "base_uri": "https://localhost:8080/"
        },
        "id": "ZRzUWFRhvgRp",
        "outputId": "a8e56595-0637-4d0a-ab15-b3dd6d27d59d"
      },
      "execution_count": 62,
      "outputs": [
        {
          "output_type": "stream",
          "name": "stdout",
          "text": [
            "-RECORD 0------------------\n",
            " a   | 1                   \n",
            " b   | 2.0                 \n",
            " c   | string1             \n",
            " d   | 2000-01-01          \n",
            " e   | 2000-01-01 12:00:00 \n",
            "only showing top 1 row\n",
            "\n"
          ]
        }
      ]
    },
    {
      "cell_type": "code",
      "source": [
        "df.show(1)   #Horizontal"
      ],
      "metadata": {
        "colab": {
          "base_uri": "https://localhost:8080/"
        },
        "id": "RTqEq4fwwWgA",
        "outputId": "968f9a6e-72fb-4bd1-dec2-5687d5a105bf"
      },
      "execution_count": 63,
      "outputs": [
        {
          "output_type": "stream",
          "name": "stdout",
          "text": [
            "+---+---+-------+----------+-------------------+\n",
            "|  a|  b|      c|         d|                  e|\n",
            "+---+---+-------+----------+-------------------+\n",
            "|  1|2.0|string1|2000-01-01|2000-01-01 12:00:00|\n",
            "+---+---+-------+----------+-------------------+\n",
            "only showing top 1 row\n",
            "\n"
          ]
        }
      ]
    },
    {
      "cell_type": "code",
      "source": [
        "df.columns   #DataFrame ustunlari ro'yxati.Xuddi pandasdagi kabi"
      ],
      "metadata": {
        "colab": {
          "base_uri": "https://localhost:8080/"
        },
        "id": "8IpDsFE6waFf",
        "outputId": "3ed380c2-2e02-4920-ef89-66e75b51ff8c"
      },
      "execution_count": 64,
      "outputs": [
        {
          "output_type": "execute_result",
          "data": {
            "text/plain": [
              "['a', 'b', 'c', 'd', 'e']"
            ]
          },
          "metadata": {},
          "execution_count": 64
        }
      ]
    },
    {
      "cell_type": "code",
      "source": [
        "df.select('a', 'b', 'c', 'd', 'e').describe().show()   #describe() funskiyasi xuddi pandasdagi funksiya kabi ustunlarni tasvirlamoqda.\n",
        "#count - joriy ustun(column)larga tegishli jami elementlarni sanaydi\n",
        "#mean - joriy ustun(column)larga tegishli jami elementlarni o'rtachasini hisoblaydi\n",
        "#stddev - ...o'rtacha qiymatlar orasidagi yaqinlikni hisoblaydi\n",
        "#min - minimalni\n",
        "#max - maximalni"
      ],
      "metadata": {
        "colab": {
          "base_uri": "https://localhost:8080/"
        },
        "id": "7RcehmiPwjwT",
        "outputId": "cc93bbce-c289-4711-bccf-cbd3830083a4"
      },
      "execution_count": 65,
      "outputs": [
        {
          "output_type": "stream",
          "name": "stdout",
          "text": [
            "+-------+---+---+-------+\n",
            "|summary|  a|  b|      c|\n",
            "+-------+---+---+-------+\n",
            "|  count|  3|  3|      3|\n",
            "|   mean|2.0|3.0|   null|\n",
            "| stddev|1.0|1.0|   null|\n",
            "|    min|  1|2.0|string1|\n",
            "|    max|  3|4.0|string3|\n",
            "+-------+---+---+-------+\n",
            "\n"
          ]
        }
      ]
    },
    {
      "cell_type": "markdown",
      "source": [
        "![std.png](data:image/png;base64,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)"
      ],
      "metadata": {
        "id": "rvVZuuebyZzl"
      }
    },
    {
      "cell_type": "code",
      "source": [
        "df.collect()  #Datarame-ni Row() funksiyasiga tayyor holatda o'tkazib beradi!"
      ],
      "metadata": {
        "colab": {
          "base_uri": "https://localhost:8080/"
        },
        "id": "z0nbvmGFwovc",
        "outputId": "1568b1a0-d953-4156-8749-4328c8f85683"
      },
      "execution_count": 66,
      "outputs": [
        {
          "output_type": "execute_result",
          "data": {
            "text/plain": [
              "[Row(a=1, b=2.0, c='string1', d=datetime.date(2000, 1, 1), e=datetime.datetime(2000, 1, 1, 12, 0)),\n",
              " Row(a=2, b=3.0, c='string2', d=datetime.date(2000, 2, 1), e=datetime.datetime(2000, 1, 2, 12, 0)),\n",
              " Row(a=3, b=4.0, c='string3', d=datetime.date(2000, 3, 1), e=datetime.datetime(2000, 1, 3, 12, 0))]"
            ]
          },
          "metadata": {},
          "execution_count": 66
        }
      ]
    },
    {
      "cell_type": "code",
      "source": [
        "import datetime\n",
        "#Tepadagi tayyor natijadan foydalanamiz\n",
        "from pyspark.sql import Row\n",
        "s=spark.createDataFrame(\n",
        "    [\n",
        "    Row(a=1, b=7.0, c='string1', d=datetime.date(2000, 1, 1), e=datetime.datetime(2000, 1, 1, 12, 0)),\n",
        "\n",
        "    Row(a=2, b=3.0, c='string2', d=datetime.date(2000, 2, 1), e=datetime.datetime(2000, 1, 2, 12, 0)),\n",
        "\n",
        "    Row(a=3, b=4.0, c='string3', d=datetime.date(2000, 3, 1), e=datetime.datetime(2000, 1, 3, 12, 0))\n",
        "    ]\n",
        "\n",
        ")"
      ],
      "metadata": {
        "id": "bx2Cq-vvxoO5"
      },
      "execution_count": 67,
      "outputs": []
    },
    {
      "cell_type": "code",
      "source": [
        "s.describe()"
      ],
      "metadata": {
        "colab": {
          "base_uri": "https://localhost:8080/",
          "height": 161
        },
        "id": "dO5iyIvpyBod",
        "outputId": "9dedbda3-ec22-44da-ecb2-ee6b6da60fac"
      },
      "execution_count": 68,
      "outputs": [
        {
          "output_type": "execute_result",
          "data": {
            "text/plain": [
              "+-------+---+-----------------+-------+\n",
              "|summary|  a|                b|      c|\n",
              "+-------+---+-----------------+-------+\n",
              "|  count|  3|                3|      3|\n",
              "|   mean|2.0|4.666666666666667|   null|\n",
              "| stddev|1.0|2.081665999466133|   null|\n",
              "|    min|  1|              3.0|string1|\n",
              "|    max|  3|              7.0|string3|\n",
              "+-------+---+-----------------+-------+"
            ],
            "text/html": [
              "<table border='1'>\n",
              "<tr><th>summary</th><th>a</th><th>b</th><th>c</th></tr>\n",
              "<tr><td>count</td><td>3</td><td>3</td><td>3</td></tr>\n",
              "<tr><td>mean</td><td>2.0</td><td>4.666666666666667</td><td>null</td></tr>\n",
              "<tr><td>stddev</td><td>1.0</td><td>2.081665999466133</td><td>null</td></tr>\n",
              "<tr><td>min</td><td>1</td><td>3.0</td><td>string1</td></tr>\n",
              "<tr><td>max</td><td>3</td><td>7.0</td><td>string3</td></tr>\n",
              "</table>\n"
            ]
          },
          "metadata": {},
          "execution_count": 68
        }
      ]
    },
    {
      "cell_type": "code",
      "source": [
        "s.take(2) #boshidagi 2 qatorni chiqaramiz"
      ],
      "metadata": {
        "id": "KjII0kgry6T5",
        "colab": {
          "base_uri": "https://localhost:8080/"
        },
        "outputId": "b7ef9bf7-fcb5-46ed-dc9f-b74aa80fa6a2"
      },
      "execution_count": 69,
      "outputs": [
        {
          "output_type": "execute_result",
          "data": {
            "text/plain": [
              "[Row(a=1, b=7.0, c='string1', d=datetime.date(2000, 1, 1), e=datetime.datetime(2000, 1, 1, 12, 0)),\n",
              " Row(a=2, b=3.0, c='string2', d=datetime.date(2000, 2, 1), e=datetime.datetime(2000, 1, 2, 12, 0))]"
            ]
          },
          "metadata": {},
          "execution_count": 69
        }
      ]
    },
    {
      "cell_type": "code",
      "source": [
        "s.toPandas()  #Spark holatdagi DataFrameni Pandas holatiga o'tkazib beradi."
      ],
      "metadata": {
        "colab": {
          "base_uri": "https://localhost:8080/",
          "height": 198
        },
        "id": "z7ZfEQ5KCeR-",
        "outputId": "f97c8037-b66e-4da9-e903-ba8fb745eb13"
      },
      "execution_count": 70,
      "outputs": [
        {
          "output_type": "stream",
          "name": "stderr",
          "text": [
            "/usr/local/lib/python3.10/dist-packages/pyspark/sql/pandas/conversion.py:251: FutureWarning: Passing unit-less datetime64 dtype to .astype is deprecated and will raise in a future version. Pass 'datetime64[ns]' instead\n",
            "  series = series.astype(t, copy=False)\n"
          ]
        },
        {
          "output_type": "execute_result",
          "data": {
            "text/plain": [
              "   a    b        c           d                   e\n",
              "0  1  7.0  string1  2000-01-01 2000-01-01 12:00:00\n",
              "1  2  3.0  string2  2000-02-01 2000-01-02 12:00:00\n",
              "2  3  4.0  string3  2000-03-01 2000-01-03 12:00:00"
            ],
            "text/html": [
              "\n",
              "  <div id=\"df-4c72653e-e54b-40e8-bf8f-df127ea8630f\">\n",
              "    <div class=\"colab-df-container\">\n",
              "      <div>\n",
              "<style scoped>\n",
              "    .dataframe tbody tr th:only-of-type {\n",
              "        vertical-align: middle;\n",
              "    }\n",
              "\n",
              "    .dataframe tbody tr th {\n",
              "        vertical-align: top;\n",
              "    }\n",
              "\n",
              "    .dataframe thead th {\n",
              "        text-align: right;\n",
              "    }\n",
              "</style>\n",
              "<table border=\"1\" class=\"dataframe\">\n",
              "  <thead>\n",
              "    <tr style=\"text-align: right;\">\n",
              "      <th></th>\n",
              "      <th>a</th>\n",
              "      <th>b</th>\n",
              "      <th>c</th>\n",
              "      <th>d</th>\n",
              "      <th>e</th>\n",
              "    </tr>\n",
              "  </thead>\n",
              "  <tbody>\n",
              "    <tr>\n",
              "      <th>0</th>\n",
              "      <td>1</td>\n",
              "      <td>7.0</td>\n",
              "      <td>string1</td>\n",
              "      <td>2000-01-01</td>\n",
              "      <td>2000-01-01 12:00:00</td>\n",
              "    </tr>\n",
              "    <tr>\n",
              "      <th>1</th>\n",
              "      <td>2</td>\n",
              "      <td>3.0</td>\n",
              "      <td>string2</td>\n",
              "      <td>2000-02-01</td>\n",
              "      <td>2000-01-02 12:00:00</td>\n",
              "    </tr>\n",
              "    <tr>\n",
              "      <th>2</th>\n",
              "      <td>3</td>\n",
              "      <td>4.0</td>\n",
              "      <td>string3</td>\n",
              "      <td>2000-03-01</td>\n",
              "      <td>2000-01-03 12:00:00</td>\n",
              "    </tr>\n",
              "  </tbody>\n",
              "</table>\n",
              "</div>\n",
              "      <button class=\"colab-df-convert\" onclick=\"convertToInteractive('df-4c72653e-e54b-40e8-bf8f-df127ea8630f')\"\n",
              "              title=\"Convert this dataframe to an interactive table.\"\n",
              "              style=\"display:none;\">\n",
              "        \n",
              "  <svg xmlns=\"http://www.w3.org/2000/svg\" height=\"24px\"viewBox=\"0 0 24 24\"\n",
              "       width=\"24px\">\n",
              "    <path d=\"M0 0h24v24H0V0z\" fill=\"none\"/>\n",
              "    <path d=\"M18.56 5.44l.94 2.06.94-2.06 2.06-.94-2.06-.94-.94-2.06-.94 2.06-2.06.94zm-11 1L8.5 8.5l.94-2.06 2.06-.94-2.06-.94L8.5 2.5l-.94 2.06-2.06.94zm10 10l.94 2.06.94-2.06 2.06-.94-2.06-.94-.94-2.06-.94 2.06-2.06.94z\"/><path d=\"M17.41 7.96l-1.37-1.37c-.4-.4-.92-.59-1.43-.59-.52 0-1.04.2-1.43.59L10.3 9.45l-7.72 7.72c-.78.78-.78 2.05 0 2.83L4 21.41c.39.39.9.59 1.41.59.51 0 1.02-.2 1.41-.59l7.78-7.78 2.81-2.81c.8-.78.8-2.07 0-2.86zM5.41 20L4 18.59l7.72-7.72 1.47 1.35L5.41 20z\"/>\n",
              "  </svg>\n",
              "      </button>\n",
              "      \n",
              "  <style>\n",
              "    .colab-df-container {\n",
              "      display:flex;\n",
              "      flex-wrap:wrap;\n",
              "      gap: 12px;\n",
              "    }\n",
              "\n",
              "    .colab-df-convert {\n",
              "      background-color: #E8F0FE;\n",
              "      border: none;\n",
              "      border-radius: 50%;\n",
              "      cursor: pointer;\n",
              "      display: none;\n",
              "      fill: #1967D2;\n",
              "      height: 32px;\n",
              "      padding: 0 0 0 0;\n",
              "      width: 32px;\n",
              "    }\n",
              "\n",
              "    .colab-df-convert:hover {\n",
              "      background-color: #E2EBFA;\n",
              "      box-shadow: 0px 1px 2px rgba(60, 64, 67, 0.3), 0px 1px 3px 1px rgba(60, 64, 67, 0.15);\n",
              "      fill: #174EA6;\n",
              "    }\n",
              "\n",
              "    [theme=dark] .colab-df-convert {\n",
              "      background-color: #3B4455;\n",
              "      fill: #D2E3FC;\n",
              "    }\n",
              "\n",
              "    [theme=dark] .colab-df-convert:hover {\n",
              "      background-color: #434B5C;\n",
              "      box-shadow: 0px 1px 3px 1px rgba(0, 0, 0, 0.15);\n",
              "      filter: drop-shadow(0px 1px 2px rgba(0, 0, 0, 0.3));\n",
              "      fill: #FFFFFF;\n",
              "    }\n",
              "  </style>\n",
              "\n",
              "      <script>\n",
              "        const buttonEl =\n",
              "          document.querySelector('#df-4c72653e-e54b-40e8-bf8f-df127ea8630f button.colab-df-convert');\n",
              "        buttonEl.style.display =\n",
              "          google.colab.kernel.accessAllowed ? 'block' : 'none';\n",
              "\n",
              "        async function convertToInteractive(key) {\n",
              "          const element = document.querySelector('#df-4c72653e-e54b-40e8-bf8f-df127ea8630f');\n",
              "          const dataTable =\n",
              "            await google.colab.kernel.invokeFunction('convertToInteractive',\n",
              "                                                     [key], {});\n",
              "          if (!dataTable) return;\n",
              "\n",
              "          const docLinkHtml = 'Like what you see? Visit the ' +\n",
              "            '<a target=\"_blank\" href=https://colab.research.google.com/notebooks/data_table.ipynb>data table notebook</a>'\n",
              "            + ' to learn more about interactive tables.';\n",
              "          element.innerHTML = '';\n",
              "          dataTable['output_type'] = 'display_data';\n",
              "          await google.colab.output.renderOutput(dataTable, element);\n",
              "          const docLink = document.createElement('div');\n",
              "          docLink.innerHTML = docLinkHtml;\n",
              "          element.appendChild(docLink);\n",
              "        }\n",
              "      </script>\n",
              "    </div>\n",
              "  </div>\n",
              "  "
            ]
          },
          "metadata": {},
          "execution_count": 70
        }
      ]
    },
    {
      "cell_type": "code",
      "source": [
        "s.head(2)"
      ],
      "metadata": {
        "colab": {
          "base_uri": "https://localhost:8080/"
        },
        "id": "ZLmQVWrPCp51",
        "outputId": "8b449666-8ceb-4f7a-cec8-e696619f18de"
      },
      "execution_count": 71,
      "outputs": [
        {
          "output_type": "execute_result",
          "data": {
            "text/plain": [
              "[Row(a=1, b=7.0, c='string1', d=datetime.date(2000, 1, 1), e=datetime.datetime(2000, 1, 1, 12, 0)),\n",
              " Row(a=2, b=3.0, c='string2', d=datetime.date(2000, 2, 1), e=datetime.datetime(2000, 1, 2, 12, 0))]"
            ]
          },
          "metadata": {},
          "execution_count": 71
        }
      ]
    },
    {
      "cell_type": "markdown",
      "source": [
        "# Selecting and Accessing Data"
      ],
      "metadata": {
        "id": "gCwAokFK1qVh"
      }
    },
    {
      "cell_type": "code",
      "source": [
        "df.a"
      ],
      "metadata": {
        "colab": {
          "base_uri": "https://localhost:8080/"
        },
        "id": "beYYaQ531uq2",
        "outputId": "a72bc714-17ed-4ed6-9b27-0c0b22f230a4"
      },
      "execution_count": 72,
      "outputs": [
        {
          "output_type": "execute_result",
          "data": {
            "text/plain": [
              "Column<'a'>"
            ]
          },
          "metadata": {},
          "execution_count": 72
        }
      ]
    },
    {
      "cell_type": "code",
      "source": [
        "from pyspark.sql import Column\n",
        "from pyspark.sql.functions import upper,lower\n",
        "\n",
        "type(df.c) == type(upper(df.c)) == type(df.c.isNull())"
      ],
      "metadata": {
        "colab": {
          "base_uri": "https://localhost:8080/"
        },
        "id": "lRYjDKin2F2M",
        "outputId": "e30b3aea-b30c-4d82-a96b-acd31d0ecb65"
      },
      "execution_count": 73,
      "outputs": [
        {
          "output_type": "execute_result",
          "data": {
            "text/plain": [
              "True"
            ]
          },
          "metadata": {},
          "execution_count": 73
        }
      ]
    },
    {
      "cell_type": "code",
      "source": [
        "upper(df.c)"
      ],
      "metadata": {
        "colab": {
          "base_uri": "https://localhost:8080/"
        },
        "id": "2pQJjwBs3umc",
        "outputId": "f5bf116d-7390-4a9a-e6e8-fed132a4f249"
      },
      "execution_count": 74,
      "outputs": [
        {
          "output_type": "execute_result",
          "data": {
            "text/plain": [
              "Column<'upper(c)'>"
            ]
          },
          "metadata": {},
          "execution_count": 74
        }
      ]
    },
    {
      "cell_type": "code",
      "source": [
        "df.select(df.c).show()"
      ],
      "metadata": {
        "colab": {
          "base_uri": "https://localhost:8080/"
        },
        "id": "D7w7ykEo32r9",
        "outputId": "56e644e0-3ebd-4449-b06a-e760c8267ee3"
      },
      "execution_count": 75,
      "outputs": [
        {
          "output_type": "stream",
          "name": "stdout",
          "text": [
            "+-------+\n",
            "|      c|\n",
            "+-------+\n",
            "|string1|\n",
            "|string2|\n",
            "|string3|\n",
            "+-------+\n",
            "\n"
          ]
        }
      ]
    },
    {
      "cell_type": "code",
      "source": [
        "df.withColumn('upper_c', upper(df.c)).show() #Ushbu kodda biz yangi 'upper_c' ustunini qo'shdik va unga 'c' ustunidan nusha olib joyladik.Hamda uni sparkning maxsus upper() funksiyasi orqali\n",
        "#uni hajmini katta qildik!"
      ],
      "metadata": {
        "colab": {
          "base_uri": "https://localhost:8080/"
        },
        "id": "PxkFBfQY5PFf",
        "outputId": "c3cf4cd5-a604-457e-eea2-129102c25955"
      },
      "execution_count": 76,
      "outputs": [
        {
          "output_type": "stream",
          "name": "stdout",
          "text": [
            "+---+---+-------+----------+-------------------+-------+\n",
            "|  a|  b|      c|         d|                  e|upper_c|\n",
            "+---+---+-------+----------+-------------------+-------+\n",
            "|  1|2.0|string1|2000-01-01|2000-01-01 12:00:00|STRING1|\n",
            "|  2|3.0|string2|2000-02-01|2000-01-02 12:00:00|STRING2|\n",
            "|  3|4.0|string3|2000-03-01|2000-01-03 12:00:00|STRING3|\n",
            "+---+---+-------+----------+-------------------+-------+\n",
            "\n"
          ]
        }
      ]
    },
    {
      "cell_type": "code",
      "source": [
        "# 'a' ustunidan qiymati 1 ga teng valuega tegishli boshqa ma'lumotlarni ham chiqarib beradi.\n",
        "df.filter(df.a == 1).show()"
      ],
      "metadata": {
        "colab": {
          "base_uri": "https://localhost:8080/"
        },
        "id": "35V36OjQ5Vlu",
        "outputId": "0bc77187-cd6c-4c2f-819e-2d2c31281b78"
      },
      "execution_count": 77,
      "outputs": [
        {
          "output_type": "stream",
          "name": "stdout",
          "text": [
            "+---+---+-------+----------+-------------------+\n",
            "|  a|  b|      c|         d|                  e|\n",
            "+---+---+-------+----------+-------------------+\n",
            "|  1|2.0|string1|2000-01-01|2000-01-01 12:00:00|\n",
            "+---+---+-------+----------+-------------------+\n",
            "\n"
          ]
        }
      ]
    }
  ]
}